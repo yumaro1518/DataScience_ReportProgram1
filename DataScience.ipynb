{
 "cells": [
  {
   "cell_type": "code",
   "execution_count": 5,
   "metadata": {},
   "outputs": [
    {
     "name": "stdout",
     "output_type": "stream",
     "text": [
      "Collecting sklearn\n",
      "  Using cached sklearn-0.0.post12.tar.gz (2.6 kB)\n",
      "  Preparing metadata (setup.py) ... \u001b[?25lerror\n",
      "  \u001b[1;31merror\u001b[0m: \u001b[1msubprocess-exited-with-error\u001b[0m\n",
      "  \n",
      "  \u001b[31m×\u001b[0m \u001b[32mpython setup.py egg_info\u001b[0m did not run successfully.\n",
      "  \u001b[31m│\u001b[0m exit code: \u001b[1;36m1\u001b[0m\n",
      "  \u001b[31m╰─>\u001b[0m \u001b[31m[15 lines of output]\u001b[0m\n",
      "  \u001b[31m   \u001b[0m The 'sklearn' PyPI package is deprecated, use 'scikit-learn'\n",
      "  \u001b[31m   \u001b[0m rather than 'sklearn' for pip commands.\n",
      "  \u001b[31m   \u001b[0m \n",
      "  \u001b[31m   \u001b[0m Here is how to fix this error in the main use cases:\n",
      "  \u001b[31m   \u001b[0m - use 'pip install scikit-learn' rather than 'pip install sklearn'\n",
      "  \u001b[31m   \u001b[0m - replace 'sklearn' by 'scikit-learn' in your pip requirements files\n",
      "  \u001b[31m   \u001b[0m   (requirements.txt, setup.py, setup.cfg, Pipfile, etc ...)\n",
      "  \u001b[31m   \u001b[0m - if the 'sklearn' package is used by one of your dependencies,\n",
      "  \u001b[31m   \u001b[0m   it would be great if you take some time to track which package uses\n",
      "  \u001b[31m   \u001b[0m   'sklearn' instead of 'scikit-learn' and report it to their issue tracker\n",
      "  \u001b[31m   \u001b[0m - as a last resort, set the environment variable\n",
      "  \u001b[31m   \u001b[0m   SKLEARN_ALLOW_DEPRECATED_SKLEARN_PACKAGE_INSTALL=True to avoid this error\n",
      "  \u001b[31m   \u001b[0m \n",
      "  \u001b[31m   \u001b[0m More information is available at\n",
      "  \u001b[31m   \u001b[0m https://github.com/scikit-learn/sklearn-pypi-package\n",
      "  \u001b[31m   \u001b[0m \u001b[31m[end of output]\u001b[0m\n",
      "  \n",
      "  \u001b[1;35mnote\u001b[0m: This error originates from a subprocess, and is likely not a problem with pip.\n",
      "\u001b[?25h\u001b[1;31merror\u001b[0m: \u001b[1mmetadata-generation-failed\u001b[0m\n",
      "\n",
      "\u001b[31m×\u001b[0m Encountered error while generating package metadata.\n",
      "\u001b[31m╰─>\u001b[0m See above for output.\n",
      "\n",
      "\u001b[1;35mnote\u001b[0m: This is an issue with the package mentioned above, not pip.\n",
      "\u001b[1;36mhint\u001b[0m: See above for details.\n"
     ]
    }
   ],
   "source": [
    "!pip install sklearn numpy matplotlib torch"
   ]
  },
  {
   "cell_type": "code",
   "execution_count": 11,
   "metadata": {},
   "outputs": [
    {
     "name": "stdout",
     "output_type": "stream",
     "text": [
      "スキルコストによる回帰結果:\n",
      "回帰係数: -948.4090909090896, 切片: 253454.9090909091\n",
      "決定係数 (R^2): 0.00023864564491304918\n",
      "\n",
      "ダメージ倍率による回帰結果:\n",
      "回帰係数: -10456.671335533018, 切片: 349813.8838889791\n",
      "決定係数 (R^2): 0.23437202128373347\n",
      "\n",
      "攻撃力による回帰結果:\n",
      "回帰係数: 45.49083220458954, 切片: -39974.25699575734\n",
      "決定係数 (R^2): 0.727092476440135\n",
      "\n",
      "スキルコストのp値: 0.9768296034380852\n",
      "ダメージ倍率のp値: 0.3305523101484565\n",
      "攻撃力のp値: 0.030949085021860438\n"
     ]
    },
    {
     "name": "stderr",
     "output_type": "stream",
     "text": [
      "/var/folders/zw/g4lp7cj140z912gmhcm8_hkr0000gn/T/ipykernel_62370/3002678032.py:48: FutureWarning: Series.__getitem__ treating keys as positions is deprecated. In a future version, integer keys will always be treated as labels (consistent with DataFrame behavior). To access a value by position, use `ser.iloc[pos]`\n",
      "  print(\"\\nスキルコストのp値:\", model_1_stats.pvalues[1])\n",
      "/var/folders/zw/g4lp7cj140z912gmhcm8_hkr0000gn/T/ipykernel_62370/3002678032.py:53: FutureWarning: Series.__getitem__ treating keys as positions is deprecated. In a future version, integer keys will always be treated as labels (consistent with DataFrame behavior). To access a value by position, use `ser.iloc[pos]`\n",
      "  print(\"ダメージ倍率のp値:\", model_2_stats.pvalues[1])\n",
      "/var/folders/zw/g4lp7cj140z912gmhcm8_hkr0000gn/T/ipykernel_62370/3002678032.py:58: FutureWarning: Series.__getitem__ treating keys as positions is deprecated. In a future version, integer keys will always be treated as labels (consistent with DataFrame behavior). To access a value by position, use `ser.iloc[pos]`\n",
      "  print(\"攻撃力のp値:\", model_3_stats.pvalues[1])\n"
     ]
    }
   ],
   "source": [
    "import numpy as np\n",
    "import pandas as pd\n",
    "from sklearn.linear_model import LinearRegression\n",
    "import statsmodels.api as sm\n",
    "\n",
    "# データ作成\n",
    "data = {\n",
    "    'キャラクター名': ['アル', '御坂', '臨戦ホシノ', '水着ノノミ', 'カズサ', '水着ワカモ'],\n",
    "    '与えたダメージ': [369920, 185370, 267545, 239999, 271897, 159443],\n",
    "    'スキルコスト': [4, 3, 6, 6, 4, 5],\n",
    "    'ダメージ倍率': [521, 1034, 652, 1009, 1493, 1074],\n",
    "    '攻撃力': [8762, 5463, 7105, 6339, 5265, 5184]\n",
    "}\n",
    "\n",
    "df = pd.DataFrame(data)\n",
    "\n",
    "# ダメージ倍率をパーセントから倍率に変換し、攻撃力との積を計算\n",
    "df['ダメージ倍率'] = df['ダメージ倍率'] * 0.01  # ％ → 倍率に変換\n",
    "\n",
    "\n",
    "# 目的変数と説明変数を設定\n",
    "X1 = df['スキルコスト'].values.reshape(-1, 1)\n",
    "X2 = df['ダメージ倍率'].values.reshape(-1, 1)\n",
    "X3 = df['攻撃力'].values.reshape(-1, 1)\n",
    "y = df['与えたダメージ']\n",
    "\n",
    "# 回帰モデルを作成して適用\n",
    "model_1 = LinearRegression().fit(X1, y)\n",
    "model_2 = LinearRegression().fit(X2, y)\n",
    "model_3 = LinearRegression().fit(X3, y)\n",
    "\n",
    "# 回帰係数と切片を表示\n",
    "print(\"スキルコストによる回帰結果:\")\n",
    "print(f\"回帰係数: {model_1.coef_[0]}, 切片: {model_1.intercept_}\")\n",
    "print(f\"決定係数 (R^2): {model_1.score(X1, y)}\")  # sklearnの決定係数\n",
    "\n",
    "print(\"\\nダメージ倍率による回帰結果:\")\n",
    "print(f\"回帰係数: {model_2.coef_[0]}, 切片: {model_2.intercept_}\")\n",
    "print(f\"決定係数 (R^2): {model_2.score(X2, y)}\")\n",
    "\n",
    "print(\"\\n攻撃力による回帰結果:\")\n",
    "print(f\"回帰係数: {model_3.coef_[0]}, 切片: {model_3.intercept_}\")\n",
    "print(f\"決定係数 (R^2): {model_3.score(X3, y)}\")\n",
    "\n",
    "# 統計的な評価（p値を求める）\n",
    "X1_with_const = sm.add_constant(X1)\n",
    "model_1_stats = sm.OLS(y, X1_with_const).fit()\n",
    "print(\"\\nスキルコストのp値:\", model_1_stats.pvalues[1])\n",
    "\n",
    "\n",
    "X2_with_const = sm.add_constant(X2)\n",
    "model_2_stats = sm.OLS(y, X2_with_const).fit()\n",
    "print(\"ダメージ倍率のp値:\", model_2_stats.pvalues[1])\n",
    "\n",
    "\n",
    "X3_with_const = sm.add_constant(X3)\n",
    "model_3_stats = sm.OLS(y, X3_with_const).fit()\n",
    "print(\"攻撃力のp値:\", model_3_stats.pvalues[1])\n"
   ]
  }
 ],
 "metadata": {
  "kernelspec": {
   "display_name": "base",
   "language": "python",
   "name": "python3"
  },
  "language_info": {
   "codemirror_mode": {
    "name": "ipython",
    "version": 3
   },
   "file_extension": ".py",
   "mimetype": "text/x-python",
   "name": "python",
   "nbconvert_exporter": "python",
   "pygments_lexer": "ipython3",
   "version": "3.11.7"
  }
 },
 "nbformat": 4,
 "nbformat_minor": 2
}
